{
  "nbformat": 4,
  "nbformat_minor": 0,
  "metadata": {
    "colab": {
      "provenance": [],
      "gpuType": "T4"
    },
    "kernelspec": {
      "name": "python3",
      "display_name": "Python 3"
    },
    "language_info": {
      "name": "python"
    },
    "accelerator": "GPU"
  },
  "cells": [
    {
      "cell_type": "code",
      "execution_count": null,
      "metadata": {
        "id": "VSMG_KoBIdD0",
        "cellView": "form"
      },
      "outputs": [],
      "source": [
        "# @title Installation der Softwarepakete\n",
        "#Install the libraries\n",
        "%%capture\n",
        "!python3 -m pip install -U git+https://github.com/facebookresearch/audiocraft#egg=audiocraft\n",
        "# !python3 -m pip install -U audiocraft\n",
        "\n",
        "import torchaudio\n",
        "from audiocraft.models import MusicGen\n",
        "from audiocraft.utils.notebook import display_audio\n",
        "from audiocraft.data.audio import audio_write\n",
        "\n",
        "model = MusicGen.get_pretrained('melody')"
      ]
    },
    {
      "cell_type": "markdown",
      "source": [
        "## Musikgenerierung\n",
        "\n",
        "In der nächsten Codezelle kannst du einen Song generieren.\n",
        "Beschreibe dazu mit \"Prompt\" den Song, indem du bspw. Genre, Instrumente und Stil angibst."
      ],
      "metadata": {
        "id": "tEM5CCxNOcaO"
      }
    },
    {
      "cell_type": "markdown",
      "source": [
        "Hinweis: Prompt Beispiele\n",
        "- crazy EDM, heavy bang\n",
        "- classic reggae track with an electronic guitar solo\n",
        "- lofi slow bpm electro chill with organic samples\n",
        "- rock with saturated guitars, a heavy bass line and crazy drum break and fills\n",
        "- earthy tones, environmentally conscious, ukulele-infused, harmonic, breezy, easygoing, organic instrumentation, gentle grooves\n",
        "- epic music with heavy bass, large-scale orchestral arrangement, soaring melodies, dynamic rhythms, impactful percussion"
      ],
      "metadata": {
        "id": "Dv2c2eeJR_jV"
      }
    },
    {
      "cell_type": "code",
      "source": [
        "# @title Generiere Musik mit deiner Beschreibung und spiele sie ab!\n",
        "\n",
        "#@markdown Die Generierungszeit beträgt ungefähr **das Doppelte** der Zeit der unten angegebenen **Länge** generierten Audiotrack (in Sekunden)\n",
        "#Parameters input\n",
        "Länge = 30 # @param {type:\"slider\", min:10, max: 120, step:5}\n",
        "Prompt = \"\" # @param {type:\"string\"}\n",
        "model.set_generation_params(duration=Länge)\n",
        "\n",
        "#Generate and display the track\n",
        "res = model.generate([\n",
        "    Prompt\n",
        "  ],\n",
        "  progress=True\n",
        ")\n",
        "display_audio(res, 32000)"
      ],
      "metadata": {
        "id": "-9T8xf2yImlW",
        "cellView": "form"
      },
      "execution_count": null,
      "outputs": []
    },
    {
      "cell_type": "code",
      "source": [
        "# @title Generiere Musik mit deiner Beispielmelodie und Beschreibung und spiele sie ab!\n",
        "\n",
        "#@markdown Die Generierungszeit beträgt ungefähr **das Dreifache** der Zeit der unten angegebenen **Länge** generierten Audiotrack (in Sekunden)\n",
        "#Parameters input\n",
        "Länge = 30 # @param {type:\"slider\", min:10, max: 120, step:5}\n",
        "Prompt = \"\" # @param {type:\"string\"}\n",
        "Beispielmelodie = \"\" # @param {type:\"string\"}\n",
        "\n",
        "model.set_generation_params(duration=Länge)\n",
        "\n",
        "melody, sr = torchaudio.load(Beispielmelodie)\n",
        "\n",
        "descriptions = [Prompt]\n",
        "\n",
        "#Generate and display the track\n",
        "wav = model.generate_with_chroma(\n",
        "    descriptions,\n",
        "    melody[None].expand(len(descriptions), -1, -1),\n",
        "    sr,\n",
        "    progress=True\n",
        ")\n",
        "display_audio(wav, 32000)"
      ],
      "metadata": {
        "id": "zNPnlgcjJ5sG",
        "cellView": "form"
      },
      "execution_count": null,
      "outputs": []
    }
  ]
}