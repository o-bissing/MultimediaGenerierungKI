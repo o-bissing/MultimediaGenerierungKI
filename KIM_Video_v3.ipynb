{
  "nbformat": 4,
  "nbformat_minor": 0,
  "metadata": {
    "colab": {
      "provenance": [],
      "gpuType": "T4"
    },
    "kernelspec": {
      "name": "python3",
      "display_name": "Python 3"
    },
    "language_info": {
      "name": "python"
    },
    "accelerator": "GPU"
  },
  "cells": [
    {
      "cell_type": "code",
      "execution_count": null,
      "metadata": {
        "cellView": "form",
        "id": "AicFc8tAJzTl"
      },
      "outputs": [],
      "source": [
        "# @title Installation der Softwarepakete\n",
        "\n",
        "%%capture\n",
        "#Install libraries\n",
        "!pip install stable_diffusion_videos\n",
        "\n",
        "import torch\n",
        "\n",
        "from stable_diffusion_videos import StableDiffusionWalkPipeline\n",
        "\n",
        "#Prepare the pipeline\n",
        "pipeline = StableDiffusionWalkPipeline.from_pretrained(\n",
        "    \"CompVis/stable-diffusion-v1-4\",\n",
        "    torch_dtype=torch.float16,\n",
        "    revision=\"fp16\",\n",
        ").to(\"cuda\")\n",
        "\n",
        "#Videocodecs and preferences\n",
        "from IPython.display import HTML\n",
        "from base64 import b64encode\n",
        "\n",
        "def visualize_video_colab(video_path):\n",
        "    mp4 = open(video_path,'rb').read()\n",
        "    data_url = \"data:video/mp4;base64,\" + b64encode(mp4).decode()\n",
        "    return HTML(\"\"\"\n",
        "    <video width=400 controls>\n",
        "        <source src=\"%s\" type=\"video/mp4\">\n",
        "    </video>\n",
        "    \"\"\" % data_url)"
      ]
    },
    {
      "cell_type": "markdown",
      "source": [
        "## Videogenerierung\n",
        "\n",
        "In der nächsten Codezelle kannst du ein Animationsvideo generieren.\n",
        "Beschreibe dazu mit \"Prompt_1\" das Startbild und mit \"Prompt_2\" das Endbild.\n",
        "Das Modell generiert dann beliebig viele Bilder (frames per second - fps) pro Sekunde und fügt diese zu einem Video zusammen."
      ],
      "metadata": {
        "id": "JgcW7TpCLd_G"
      }
    },
    {
      "cell_type": "code",
      "source": [
        "# @title Generiere ein Animationsvideo nach deiner Beschreibung!\n",
        "\n",
        "#Default parameters\n",
        "Länge = 16 # @param {type:\"slider\", min:4, max:16, step:1}\n",
        "Prompt_1 = \"tree\" # @param {type:\"string\"}\n",
        "Prompt_2 = \"building\" # @param {type:\"string\"}\n",
        "fps = 5 # @param {type:\"slider\", min:1, max:10, step:1}\n",
        "\n",
        "#Generate and show a video\n",
        "video_path = pipeline.walk(\n",
        "    [Prompt_1, Prompt_2],\n",
        "    [42, 321],\n",
        "    fps=fps,                      # use 5 for testing, 25 or 30 for better quality\n",
        "    num_interpolation_steps=Länge,  # use 3-5 for testing, 30 or more for better results\n",
        "    height=512,                 # use multiples of 64 if > 512. Multiples of 8 if < 512.\n",
        "    width=512,                  # use multiples of 64 if > 512. Multiples of 8 if < 512.\n",
        "    guidance_scale=6.5,         # Higher adheres to prompt more, lower lets model take the wheel\n",
        "    num_inference_steps=30,     # Number of diffusion steps per image generated. 50 is good default\n",
        ")\n",
        "visualize_video_colab(video_path)"
      ],
      "metadata": {
        "cellView": "form",
        "id": "LjsPEzvtLFCQ"
      },
      "execution_count": null,
      "outputs": []
    },
    {
      "cell_type": "markdown",
      "source": [
        "## Musikvideogenerierung\n",
        "\n",
        "In der nächsten Codezelle kannst du ein Animationsvideo generieren, welches sich an einen Ausschnitt von einem dir vorgegebenen Song anpasst.\n",
        "Gib dazu den Start- und Endpunkt des Songs in Sekunden an und beschreibe mit \"Prompt_1\" wieder das Startbild und mit \"Prompt_2\" das Endbild.\n",
        "Das Modell generiert dann beliebig viele Bilder (frames per second - fps) pro Sekunde und fügt diese zu einem Video zusammen."
      ],
      "metadata": {
        "id": "dUAn2CGCNDSQ"
      }
    },
    {
      "cell_type": "code",
      "source": [
        "# @title Generiere ein Animationsvideo nach deiner Beschreibung!\n",
        "\n",
        "#Default parameters\n",
        "Prompt_1 = \"blueberry spaghetti\" # @param {type:\"string\"}\n",
        "Prompt_2 = \"strawberry spaghetti\" # @param {type:\"string\"}\n",
        "fps = 10 # @param {type:\"slider\", min:1, max:10, step:1}\n",
        "Start = 1 # @param {type:\"number\"}\n",
        "Ende = 9 # @param {type:\"number\"}\n",
        "Song = \"\" # @param {type:\"string\"}\n",
        "\n",
        "# Display song if needed\n",
        "# from IPython.display import Audio\n",
        "# Audio(filename=Song)\n",
        "\n",
        "# Seconds in the song\n",
        "audio_offsets = [Start, Ende]\n",
        "\n",
        "# Convert seconds to frames\n",
        "num_interpolation_steps = [(b-a) * fps for a, b in zip(audio_offsets, audio_offsets[1:])]\n",
        "\n",
        "#Generate and show a video\n",
        "video_path = pipeline.walk(\n",
        "    prompts=[Prompt_1, Prompt_2],\n",
        "    seeds=[42, 321],\n",
        "    num_interpolation_steps=num_interpolation_steps,\n",
        "    height=512,                            # use multiples of 64\n",
        "    width=512,                             # use multiples of 64\n",
        "    audio_filepath=Song,    # Use your own file\n",
        "    audio_start_sec=audio_offsets[0],       # Start second of the provided audio\n",
        "    fps=fps,                               # important to set yourself based on the num_interpolation_steps you defined\n",
        "    batch_size=4,                          # increase until you go out of memory.\n",
        "    output_dir='./dreams',                 # Where images will be saved\n",
        "    name=None,                             # Subdir of output dir. will be timestamp by default\n",
        ")\n",
        "visualize_video_colab(video_path)"
      ],
      "metadata": {
        "id": "Fl3MwTiKLHej",
        "cellView": "form"
      },
      "execution_count": null,
      "outputs": []
    }
  ]
}