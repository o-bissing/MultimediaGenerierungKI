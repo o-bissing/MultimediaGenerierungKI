{
  "nbformat": 4,
  "nbformat_minor": 0,
  "metadata": {
    "colab": {
      "provenance": [],
      "gpuType": "T4"
    },
    "kernelspec": {
      "name": "python3",
      "display_name": "Python 3"
    },
    "language_info": {
      "name": "python"
    },
    "accelerator": "GPU"
  },
  "cells": [
    {
      "cell_type": "code",
      "source": [
        "#@title Installation der Softwarepakete\n",
        "%%capture\n",
        "#Install libraries\n",
        "!nvidia-smi\n",
        "!pip install diffusers\n",
        "!pip install transformers scipy ftfy accelerate\n",
        "\n",
        "from diffusers import StableDiffusionPipeline\n",
        "import torch\n",
        "\n",
        "#Start the model, prepare it to generate\n",
        "model_id = \"XpucT/Deliberate\"\n",
        "pipe = StableDiffusionPipeline.from_pretrained(model_id, torch_dtype=torch.float16)\n",
        "pipe = pipe.to(\"cuda\")"
      ],
      "metadata": {
        "id": "xlLCnLLOJ008",
        "cellView": "form"
      },
      "execution_count": null,
      "outputs": []
    },
    {
      "cell_type": "markdown",
      "source": [
        "## Nachfolgend kannst du der KI Anweisungen geben wie Sie dein Wunschbild zu zeichnen hat."
      ],
      "metadata": {
        "id": "KGarGjiAwfSM"
      }
    },
    {
      "cell_type": "markdown",
      "source": [
        "### Hinweis 1:\n",
        "****\n",
        "Gib deinen *Prompt* möglichst in, mit Komma voneinander getrennten,Stichworten an.\n",
        "\n",
        "**Beispiel:** \"superhero, time-travel, teenager, cool\""
      ],
      "metadata": {
        "id": "QVrQME__x0ev"
      }
    },
    {
      "cell_type": "markdown",
      "source": [
        "### Hinweis 2:\n",
        "****\n",
        "Dieses Modell funktioniert am besten wenn die Prompts auf Englisch geschrieben werden. Falls du Hilfe brauchst, melde dich einfach!"
      ],
      "metadata": {
        "id": "QeD1HkV4zoSn"
      }
    },
    {
      "cell_type": "markdown",
      "source": [
        "### Hinweis 3: Prompt Beispiele\n",
        "****\n",
        "1. [superpower*], teenager girl, super power, drawing, artwork, fantasy hero character portrait *(z.B. Firestarter, Plant Whisperer, Wind Rider usw.)\n",
        "2. steampunk city, christmas, sunset, photorealism, from above\n",
        "3. japan street, night, raining, moonlight, high detail, anime style\n",
        "4. mystical forest, vibrant colors, towering trees, magical creatures\n",
        "5. dramatic battle between elemental forces, with fire, water, earth, and air colliding in a mesmerizing display of power and energy\n",
        "6. [game*] game styled character, less realistic, stunning background *(z.B. League of Legends, GTA 5, Fortnite usw.)"
      ],
      "metadata": {
        "id": "q7r9LE4oC7MO"
      }
    },
    {
      "cell_type": "markdown",
      "source": [
        "###Hinweis 4:\n",
        "Der \"**Positive Prompt**\" sagt der KI was es in dem Bild generieren soll, der \"**Negative Prompt**\" sagt was es *nicht* generieren soll.\n",
        "\n",
        "Mit die \"**Orientierungsskala**\" sagst du wie sehr sich das Modell an deine Prompts halten soll. Ist der Faktor sehr hoch, folgt das Modell deinen Anweisungen sehr genau, ist er sehr niedrig, wird es verrückter.\n",
        "\n",
        "Da das Bildgenerierung mittels KI ist ein schrittweiser Prozess, bei dem die KI unterwegs lernt und sich verbessert, um das bestmögliche Bild zu erstellen, die \"**Anzahl_Inferenzschritte**\" bestimmt die Anzahl dieser Schritte.\n",
        "\n",
        "Probiere verschiedene Kombinationen aus, bis du das passende Bild gefunden hast!"
      ],
      "metadata": {
        "id": "PEvN6gkiDm_V"
      }
    },
    {
      "cell_type": "code",
      "source": [
        "# @title Führe diese Zelle aus, bis dir eines der Bilder in der Grundstruktur gefällt!\n",
        "\n",
        "#Set default parameters\n",
        "Positiver_Prompt = \"plant whisperer, teenager girl, super power, drawing, artwork, fantasy hero character portrait *(z.B. Firestarter, Plant Whisperer, Wind Rider usw.)\" #@param {type:\"string\"}\n",
        "Negativer_Prompt = \"\" #@param {type:\"string\"}\n",
        "Orientierungsskala = 6.5 #@param {type:\"slider\", min:3, max: 12, step: 0.5}\n",
        "Anzahl_Inferenzschritte = 75 #@param {type:\"slider\", min:5, max: 150, step: 5}\n",
        "\n",
        "#Set a complexe prompt together\n",
        "positive_quality_insurance_keywords = \"High resolution, Precise focus, Well-defined details, Clean composition, Consistent lighting\"\n",
        "negative_quality_insurance_keywords = \"duplicate, bad face, bad eyes, bad hands, bad anatomy, missing fingers, cropped, mutated hands, extra fingers, black and white, lowres, error, cropped, worst quality, low quality, jpeg artifacts, out of frame, watermark, signature\"\n",
        "\n",
        "num_images = 4\n",
        "concatenated_prompt = [f\"{Positiver_Prompt}, {positive_quality_insurance_keywords}\"] * num_images\n",
        "concatenated_negative_prompt = [f\"{Negativer_Prompt}, {negative_quality_insurance_keywords}\"] * num_images\n",
        "\n",
        "#Create an 2x2 grid, so 4 pictures are created simultaneously\n",
        "from PIL import Image\n",
        "\n",
        "def image_grid(imgs, rows, cols):\n",
        "    assert len(imgs) == rows*cols\n",
        "\n",
        "    w, h = imgs[0].size\n",
        "    grid = Image.new('RGB', size=(cols*w, rows*h))\n",
        "    grid_w, grid_h = grid.size\n",
        "\n",
        "    for i, img in enumerate(imgs):\n",
        "        grid.paste(img, box=(i%cols*w, i//cols*h))\n",
        "    return grid\n",
        "\n",
        "\n",
        "height = pipe.unet.config.sample_size * pipe.vae_scale_factor\n",
        "width = pipe.unet.config.sample_size * pipe.vae_scale_factor\n",
        "device = \"cuda\"\n",
        "generator = torch.Generator(device=device)\n",
        "\n",
        "#Prepare pipeline, grid and unique seeds\n",
        "latents = None\n",
        "seeds = []\n",
        "for _ in range(num_images):\n",
        "    # Get a new random seed, store it and use it as the generator state\n",
        "    seed = generator.seed()\n",
        "    seeds.append(seed)\n",
        "    generator = generator.manual_seed(seed)\n",
        "\n",
        "    image_latents = torch.randn(\n",
        "        (1, pipe.unet.in_channels, height // 8, width // 8),\n",
        "        generator = generator,\n",
        "        device = device\n",
        "    )\n",
        "    latents = image_latents if latents is None else torch.cat((latents, image_latents))\n",
        "\n",
        "# latents should have shape (4, 4, 64, 64) in this case\n",
        "# latents.shape\n",
        "\n",
        "#[concatenated_prompt] * num_images,\n",
        "#[concatenated_negative_prompt] * num_images,\n",
        "\n",
        "#Generate and show images\n",
        "with torch.autocast(device):\n",
        "    images = pipe(\n",
        "        prompt=concatenated_prompt,\n",
        "        negative_prompt=concatenated_negative_prompt,\n",
        "        num_inference_steps=Anzahl_Inferenzschritte,\n",
        "        guidance_scale=Orientierungsskala,\n",
        "        latents = latents\n",
        "    )[\"images\"]\n",
        "\n",
        "image_grid(images, 2, 2)"
      ],
      "metadata": {
        "id": "mgg077dd0w3J",
        "cellView": "form"
      },
      "execution_count": null,
      "outputs": []
    },
    {
      "cell_type": "markdown",
      "source": [
        "## Bildanpassung\n",
        "\n",
        "In der nächsten Codezelle kannst du das Bild auswählen, welches dir am besten gefallen hat und \"Positive\" und \"Negative\" Ergänzungen in deinen Prompts vornehmen."
      ],
      "metadata": {
        "id": "uOEOX4fiRdq0"
      }
    },
    {
      "cell_type": "code",
      "source": [
        "# @title Wähle das Bild aus, welches dir am besten gefallen hat und mache Änderungen!\n",
        "\n",
        "#Choose a seed to work on\n",
        "Bild = 1 # @param {type:\"number\"})\n",
        "picture_minus_one = Bild - 1\n",
        "\n",
        "seed = seeds[picture_minus_one]   # Second one\n",
        "#seed\n",
        "\n",
        "generator.manual_seed(seed)\n",
        "\n",
        "height = 512\n",
        "width = 512\n",
        "\n",
        "#Prepare a pipeline\n",
        "latents = torch.randn(\n",
        "    (1, pipe.unet.in_channels, height // 8, width // 8),\n",
        "    generator = generator,\n",
        "    device = device\n",
        ")\n",
        "\n",
        "#Set default parameters\n",
        "Positive_Prompt_Ergänzung = \"\" # @param {type:\"string\"}\n",
        "Negative_Prompt_Ergänzung = \"\" # @param {type:\"string\"}\n",
        "Orientierungsskala = 6.5 #@param {type:\"slider\", min:3, max: 12, step: 0.5}\n",
        "Anzahl_Inferenzschritte = 50 #@param {type:\"slider\", min:5, max: 150, step: 5}\n",
        "\n",
        "#Generate and show images\n",
        "with torch.autocast(\"cuda\"):\n",
        "    image = pipe(\n",
        "        prompt = [f\"{Positiver_Prompt}, {Positive_Prompt_Ergänzung}, {positive_quality_insurance_keywords}\"],\n",
        "        negative_prompt = [f\"{Negativer_Prompt}, {Negative_Prompt_Ergänzung}, {negative_quality_insurance_keywords}\"],\n",
        "        guidance_scale=Orientierungsskala,\n",
        "        num_inference_steps=Anzahl_Inferenzschritte,\n",
        "        latents = latents,\n",
        "    )[\"images\"]\n",
        "\n",
        "image[0]"
      ],
      "metadata": {
        "id": "GDRzSrWl61lW",
        "cellView": "form"
      },
      "execution_count": null,
      "outputs": []
    }
  ]
}